{
 "cells": [
  {
   "cell_type": "markdown",
   "metadata": {},
   "source": [
    "# ASSIGNMENT : IRIS MULTI-CLASS CLASSIFICATION\n",
    "\n",
    "###### Purpose :\n",
    "To predict the species of flower .\n",
    "###### Description :\n",
    "The dataset contains a set of 150 records under 5 attributes - Petal Length, Petal Width, Sepal Length, Sepal width and Class(Species).\n",
    "###### Requirements :\n",
    "1) Code must be in tf 2.0 .\n",
    "\n",
    "2) Accuracy must be in between 95-97% .\n",
    "\n",
    "3) Model shouldn't be Overfit (You can add drop out layer for this) ."
   ]
  },
  {
   "cell_type": "markdown",
   "metadata": {},
   "source": [
    "### STEP 1 : Load all the necessary libraries "
   ]
  },
  {
   "cell_type": "code",
   "execution_count": 51,
   "metadata": {},
   "outputs": [],
   "source": [
    "import numpy as np\n",
    "import pandas as pd"
   ]
  },
  {
   "cell_type": "markdown",
   "metadata": {},
   "source": [
    "### STEP 2 : Data Preparation\n",
    "This step consists of multiple sub steps from data loading [download](https://github.com/ramsha275/PIAIC-Sir-Anees-Quarter-2/blob/master/Deep%20Learning/iris.csv),shuffling ,spliting in **Train** and **Test** sets to one-hot-enconding on labels . \n"
   ]
  },
  {
   "cell_type": "code",
   "execution_count": 52,
   "metadata": {},
   "outputs": [
    {
     "data": {
      "text/html": [
       "<div>\n",
       "<style scoped>\n",
       "    .dataframe tbody tr th:only-of-type {\n",
       "        vertical-align: middle;\n",
       "    }\n",
       "\n",
       "    .dataframe tbody tr th {\n",
       "        vertical-align: top;\n",
       "    }\n",
       "\n",
       "    .dataframe thead th {\n",
       "        text-align: right;\n",
       "    }\n",
       "</style>\n",
       "<table border=\"1\" class=\"dataframe\">\n",
       "  <thead>\n",
       "    <tr style=\"text-align: right;\">\n",
       "      <th></th>\n",
       "      <th>sepal.length</th>\n",
       "      <th>sepal.width</th>\n",
       "      <th>petal.length</th>\n",
       "      <th>petal.width</th>\n",
       "      <th>variety</th>\n",
       "    </tr>\n",
       "  </thead>\n",
       "  <tbody>\n",
       "    <tr>\n",
       "      <td>0</td>\n",
       "      <td>5.1</td>\n",
       "      <td>3.5</td>\n",
       "      <td>1.4</td>\n",
       "      <td>0.2</td>\n",
       "      <td>Setosa</td>\n",
       "    </tr>\n",
       "    <tr>\n",
       "      <td>1</td>\n",
       "      <td>4.9</td>\n",
       "      <td>3.0</td>\n",
       "      <td>1.4</td>\n",
       "      <td>0.2</td>\n",
       "      <td>Setosa</td>\n",
       "    </tr>\n",
       "    <tr>\n",
       "      <td>2</td>\n",
       "      <td>4.7</td>\n",
       "      <td>3.2</td>\n",
       "      <td>1.3</td>\n",
       "      <td>0.2</td>\n",
       "      <td>Setosa</td>\n",
       "    </tr>\n",
       "    <tr>\n",
       "      <td>3</td>\n",
       "      <td>4.6</td>\n",
       "      <td>3.1</td>\n",
       "      <td>1.5</td>\n",
       "      <td>0.2</td>\n",
       "      <td>Setosa</td>\n",
       "    </tr>\n",
       "    <tr>\n",
       "      <td>4</td>\n",
       "      <td>5.0</td>\n",
       "      <td>3.6</td>\n",
       "      <td>1.4</td>\n",
       "      <td>0.2</td>\n",
       "      <td>Setosa</td>\n",
       "    </tr>\n",
       "  </tbody>\n",
       "</table>\n",
       "</div>"
      ],
      "text/plain": [
       "   sepal.length  sepal.width  petal.length  petal.width variety\n",
       "0           5.1          3.5           1.4          0.2  Setosa\n",
       "1           4.9          3.0           1.4          0.2  Setosa\n",
       "2           4.7          3.2           1.3          0.2  Setosa\n",
       "3           4.6          3.1           1.5          0.2  Setosa\n",
       "4           5.0          3.6           1.4          0.2  Setosa"
      ]
     },
     "execution_count": 52,
     "metadata": {},
     "output_type": "execute_result"
    }
   ],
   "source": [
    "df = pd.read_csv('iris.csv')\n",
    "df.head()"
   ]
  },
  {
   "cell_type": "code",
   "execution_count": 53,
   "metadata": {},
   "outputs": [],
   "source": [
    "X = df.drop('variety', axis=1).values"
   ]
  },
  {
   "cell_type": "code",
   "execution_count": 54,
   "metadata": {},
   "outputs": [],
   "source": [
    "y = df['variety'].values"
   ]
  },
  {
   "cell_type": "code",
   "execution_count": 55,
   "metadata": {},
   "outputs": [
    {
     "data": {
      "text/plain": [
       "array([[1., 0., 0.],\n",
       "       [1., 0., 0.],\n",
       "       [1., 0., 0.],\n",
       "       [1., 0., 0.],\n",
       "       [1., 0., 0.],\n",
       "       [1., 0., 0.],\n",
       "       [1., 0., 0.],\n",
       "       [1., 0., 0.],\n",
       "       [1., 0., 0.],\n",
       "       [1., 0., 0.],\n",
       "       [1., 0., 0.],\n",
       "       [1., 0., 0.],\n",
       "       [1., 0., 0.],\n",
       "       [1., 0., 0.],\n",
       "       [1., 0., 0.],\n",
       "       [1., 0., 0.],\n",
       "       [1., 0., 0.],\n",
       "       [1., 0., 0.],\n",
       "       [1., 0., 0.],\n",
       "       [1., 0., 0.],\n",
       "       [1., 0., 0.],\n",
       "       [1., 0., 0.],\n",
       "       [1., 0., 0.],\n",
       "       [1., 0., 0.],\n",
       "       [1., 0., 0.],\n",
       "       [1., 0., 0.],\n",
       "       [1., 0., 0.],\n",
       "       [1., 0., 0.],\n",
       "       [1., 0., 0.],\n",
       "       [1., 0., 0.],\n",
       "       [1., 0., 0.],\n",
       "       [1., 0., 0.],\n",
       "       [1., 0., 0.],\n",
       "       [1., 0., 0.],\n",
       "       [1., 0., 0.],\n",
       "       [1., 0., 0.],\n",
       "       [1., 0., 0.],\n",
       "       [1., 0., 0.],\n",
       "       [1., 0., 0.],\n",
       "       [1., 0., 0.],\n",
       "       [1., 0., 0.],\n",
       "       [1., 0., 0.],\n",
       "       [1., 0., 0.],\n",
       "       [1., 0., 0.],\n",
       "       [1., 0., 0.],\n",
       "       [1., 0., 0.],\n",
       "       [1., 0., 0.],\n",
       "       [1., 0., 0.],\n",
       "       [1., 0., 0.],\n",
       "       [1., 0., 0.],\n",
       "       [0., 1., 0.],\n",
       "       [0., 1., 0.],\n",
       "       [0., 1., 0.],\n",
       "       [0., 1., 0.],\n",
       "       [0., 1., 0.],\n",
       "       [0., 1., 0.],\n",
       "       [0., 1., 0.],\n",
       "       [0., 1., 0.],\n",
       "       [0., 1., 0.],\n",
       "       [0., 1., 0.],\n",
       "       [0., 1., 0.],\n",
       "       [0., 1., 0.],\n",
       "       [0., 1., 0.],\n",
       "       [0., 1., 0.],\n",
       "       [0., 1., 0.],\n",
       "       [0., 1., 0.],\n",
       "       [0., 1., 0.],\n",
       "       [0., 1., 0.],\n",
       "       [0., 1., 0.],\n",
       "       [0., 1., 0.],\n",
       "       [0., 1., 0.],\n",
       "       [0., 1., 0.],\n",
       "       [0., 1., 0.],\n",
       "       [0., 1., 0.],\n",
       "       [0., 1., 0.],\n",
       "       [0., 1., 0.],\n",
       "       [0., 1., 0.],\n",
       "       [0., 1., 0.],\n",
       "       [0., 1., 0.],\n",
       "       [0., 1., 0.],\n",
       "       [0., 1., 0.],\n",
       "       [0., 1., 0.],\n",
       "       [0., 1., 0.],\n",
       "       [0., 1., 0.],\n",
       "       [0., 1., 0.],\n",
       "       [0., 1., 0.],\n",
       "       [0., 1., 0.],\n",
       "       [0., 1., 0.],\n",
       "       [0., 1., 0.],\n",
       "       [0., 1., 0.],\n",
       "       [0., 1., 0.],\n",
       "       [0., 1., 0.],\n",
       "       [0., 1., 0.],\n",
       "       [0., 1., 0.],\n",
       "       [0., 1., 0.],\n",
       "       [0., 1., 0.],\n",
       "       [0., 1., 0.],\n",
       "       [0., 1., 0.],\n",
       "       [0., 1., 0.],\n",
       "       [0., 1., 0.],\n",
       "       [0., 0., 1.],\n",
       "       [0., 0., 1.],\n",
       "       [0., 0., 1.],\n",
       "       [0., 0., 1.],\n",
       "       [0., 0., 1.],\n",
       "       [0., 0., 1.],\n",
       "       [0., 0., 1.],\n",
       "       [0., 0., 1.],\n",
       "       [0., 0., 1.],\n",
       "       [0., 0., 1.],\n",
       "       [0., 0., 1.],\n",
       "       [0., 0., 1.],\n",
       "       [0., 0., 1.],\n",
       "       [0., 0., 1.],\n",
       "       [0., 0., 1.],\n",
       "       [0., 0., 1.],\n",
       "       [0., 0., 1.],\n",
       "       [0., 0., 1.],\n",
       "       [0., 0., 1.],\n",
       "       [0., 0., 1.],\n",
       "       [0., 0., 1.],\n",
       "       [0., 0., 1.],\n",
       "       [0., 0., 1.],\n",
       "       [0., 0., 1.],\n",
       "       [0., 0., 1.],\n",
       "       [0., 0., 1.],\n",
       "       [0., 0., 1.],\n",
       "       [0., 0., 1.],\n",
       "       [0., 0., 1.],\n",
       "       [0., 0., 1.],\n",
       "       [0., 0., 1.],\n",
       "       [0., 0., 1.],\n",
       "       [0., 0., 1.],\n",
       "       [0., 0., 1.],\n",
       "       [0., 0., 1.],\n",
       "       [0., 0., 1.],\n",
       "       [0., 0., 1.],\n",
       "       [0., 0., 1.],\n",
       "       [0., 0., 1.],\n",
       "       [0., 0., 1.],\n",
       "       [0., 0., 1.],\n",
       "       [0., 0., 1.],\n",
       "       [0., 0., 1.],\n",
       "       [0., 0., 1.],\n",
       "       [0., 0., 1.],\n",
       "       [0., 0., 1.],\n",
       "       [0., 0., 1.],\n",
       "       [0., 0., 1.],\n",
       "       [0., 0., 1.],\n",
       "       [0., 0., 1.]], dtype=float32)"
      ]
     },
     "execution_count": 55,
     "metadata": {},
     "output_type": "execute_result"
    }
   ],
   "source": [
    "from sklearn.preprocessing import LabelEncoder\n",
    "encoder = LabelEncoder()\n",
    "y = encoder.fit_transform(y)\n",
    "\n",
    "from tensorflow.keras.utils import to_categorical\n",
    "y = to_categorical(y)\n",
    "y"
   ]
  },
  {
   "cell_type": "code",
   "execution_count": 56,
   "metadata": {},
   "outputs": [],
   "source": [
    "from sklearn.model_selection import train_test_split\n",
    "\n",
    "X_train, X_test, y_train, y_test = train_test_split(X, y, test_size=0.2, random_state=42)"
   ]
  },
  {
   "cell_type": "markdown",
   "metadata": {},
   "source": [
    "### STEP 3 : Model Architecture \n",
    "\n",
    "\n",
    "###### Input : 4 \n",
    "###### 1 hidden Layer : 8 nodes\n",
    "###### Output : 3"
   ]
  },
  {
   "cell_type": "code",
   "execution_count": 57,
   "metadata": {},
   "outputs": [],
   "source": [
    "from tensorflow.keras.models import Sequential\n",
    "from tensorflow.keras.layers import Dense, Dropout\n",
    "\n",
    "model = Sequential()\n",
    "model.add(Dense(8, input_shape=(4,)))\n",
    "model.add(Dense(8, activation='relu'))\n",
    "\n",
    "model.add(Dropout(0.2))\n",
    "\n",
    "model.add(Dense(3, activation='softmax'))"
   ]
  },
  {
   "cell_type": "markdown",
   "metadata": {},
   "source": [
    "### STEP 4 : Compilation Step "
   ]
  },
  {
   "cell_type": "code",
   "execution_count": 58,
   "metadata": {},
   "outputs": [
    {
     "name": "stdout",
     "output_type": "stream",
     "text": [
      "Train on 120 samples, validate on 30 samples\n",
      "Epoch 1/70\n",
      "120/120 [==============================] - 1s 4ms/sample - loss: 1.6941 - accuracy: 0.3667 - val_loss: 1.5437 - val_accuracy: 0.3000\n",
      "Epoch 2/70\n",
      "120/120 [==============================] - 0s 266us/sample - loss: 1.6069 - accuracy: 0.3333 - val_loss: 1.4457 - val_accuracy: 0.3000\n",
      "Epoch 3/70\n",
      "120/120 [==============================] - 0s 283us/sample - loss: 1.4762 - accuracy: 0.3750 - val_loss: 1.3638 - val_accuracy: 0.3000\n",
      "Epoch 4/70\n",
      "120/120 [==============================] - 0s 279us/sample - loss: 1.3512 - accuracy: 0.3250 - val_loss: 1.2973 - val_accuracy: 0.3000\n",
      "Epoch 5/70\n",
      "120/120 [==============================] - 0s 234us/sample - loss: 1.4654 - accuracy: 0.3000 - val_loss: 1.2428 - val_accuracy: 0.3000\n",
      "Epoch 6/70\n",
      "120/120 [==============================] - 0s 277us/sample - loss: 1.2349 - accuracy: 0.4500 - val_loss: 1.1981 - val_accuracy: 0.3000\n",
      "Epoch 7/70\n",
      "120/120 [==============================] - 0s 279us/sample - loss: 1.3008 - accuracy: 0.3583 - val_loss: 1.1634 - val_accuracy: 0.3000\n",
      "Epoch 8/70\n",
      "120/120 [==============================] - 0s 305us/sample - loss: 1.2559 - accuracy: 0.3833 - val_loss: 1.1392 - val_accuracy: 0.3000\n",
      "Epoch 9/70\n",
      "120/120 [==============================] - 0s 254us/sample - loss: 1.2528 - accuracy: 0.3250 - val_loss: 1.1206 - val_accuracy: 0.3000\n",
      "Epoch 10/70\n",
      "120/120 [==============================] - 0s 274us/sample - loss: 1.1885 - accuracy: 0.3500 - val_loss: 1.1057 - val_accuracy: 0.2667\n",
      "Epoch 11/70\n",
      "120/120 [==============================] - 0s 279us/sample - loss: 1.2082 - accuracy: 0.3167 - val_loss: 1.0926 - val_accuracy: 0.1000\n",
      "Epoch 12/70\n",
      "120/120 [==============================] - 0s 245us/sample - loss: 1.2109 - accuracy: 0.2000 - val_loss: 1.0800 - val_accuracy: 0.0333\n",
      "Epoch 13/70\n",
      "120/120 [==============================] - 0s 284us/sample - loss: 1.1657 - accuracy: 0.2000 - val_loss: 1.0672 - val_accuracy: 0.0333\n",
      "Epoch 14/70\n",
      "120/120 [==============================] - 0s 298us/sample - loss: 1.1611 - accuracy: 0.1583 - val_loss: 1.0555 - val_accuracy: 0.1333\n",
      "Epoch 15/70\n",
      "120/120 [==============================] - 0s 263us/sample - loss: 1.1664 - accuracy: 0.2167 - val_loss: 1.0446 - val_accuracy: 0.1333\n",
      "Epoch 16/70\n",
      "120/120 [==============================] - 0s 252us/sample - loss: 1.1542 - accuracy: 0.1833 - val_loss: 1.0344 - val_accuracy: 0.1333\n",
      "Epoch 17/70\n",
      "120/120 [==============================] - 0s 281us/sample - loss: 1.0575 - accuracy: 0.3000 - val_loss: 1.0243 - val_accuracy: 0.1333\n",
      "Epoch 18/70\n",
      "120/120 [==============================] - 0s 246us/sample - loss: 1.1263 - accuracy: 0.1333 - val_loss: 1.0143 - val_accuracy: 0.1000\n",
      "Epoch 19/70\n",
      "120/120 [==============================] - 0s 349us/sample - loss: 1.0978 - accuracy: 0.1667 - val_loss: 1.0047 - val_accuracy: 0.1333\n",
      "Epoch 20/70\n",
      "120/120 [==============================] - 0s 344us/sample - loss: 0.9988 - accuracy: 0.3167 - val_loss: 0.9951 - val_accuracy: 0.3000\n",
      "Epoch 21/70\n",
      "120/120 [==============================] - 0s 240us/sample - loss: 1.0793 - accuracy: 0.3083 - val_loss: 0.9852 - val_accuracy: 0.4000\n",
      "Epoch 22/70\n",
      "120/120 [==============================] - 0s 286us/sample - loss: 1.0324 - accuracy: 0.3833 - val_loss: 0.9745 - val_accuracy: 0.4667\n",
      "Epoch 23/70\n",
      "120/120 [==============================] - 0s 295us/sample - loss: 1.1024 - accuracy: 0.3250 - val_loss: 0.9645 - val_accuracy: 0.5333\n",
      "Epoch 24/70\n",
      "120/120 [==============================] - 0s 231us/sample - loss: 1.0221 - accuracy: 0.4583 - val_loss: 0.9545 - val_accuracy: 0.7000\n",
      "Epoch 25/70\n",
      "120/120 [==============================] - 0s 265us/sample - loss: 1.0591 - accuracy: 0.4083 - val_loss: 0.9486 - val_accuracy: 0.7000\n",
      "Epoch 26/70\n",
      "120/120 [==============================] - 0s 230us/sample - loss: 1.0050 - accuracy: 0.4167 - val_loss: 0.9408 - val_accuracy: 0.5667\n",
      "Epoch 27/70\n",
      "120/120 [==============================] - 0s 245us/sample - loss: 0.9703 - accuracy: 0.4167 - val_loss: 0.9315 - val_accuracy: 0.4000\n",
      "Epoch 28/70\n",
      "120/120 [==============================] - 0s 266us/sample - loss: 0.9668 - accuracy: 0.4000 - val_loss: 0.9241 - val_accuracy: 0.6333\n",
      "Epoch 29/70\n",
      "120/120 [==============================] - 0s 316us/sample - loss: 0.9631 - accuracy: 0.5167 - val_loss: 0.9171 - val_accuracy: 0.6333\n",
      "Epoch 30/70\n",
      "120/120 [==============================] - 0s 254us/sample - loss: 0.9486 - accuracy: 0.4917 - val_loss: 0.9097 - val_accuracy: 0.6333\n",
      "Epoch 31/70\n",
      "120/120 [==============================] - 0s 281us/sample - loss: 0.9503 - accuracy: 0.4583 - val_loss: 0.9038 - val_accuracy: 0.6333\n",
      "Epoch 32/70\n",
      "120/120 [==============================] - 0s 227us/sample - loss: 0.9100 - accuracy: 0.5500 - val_loss: 0.8985 - val_accuracy: 0.6333\n",
      "Epoch 33/70\n",
      "120/120 [==============================] - 0s 280us/sample - loss: 0.8857 - accuracy: 0.5167 - val_loss: 0.8908 - val_accuracy: 0.6333\n",
      "Epoch 34/70\n",
      "120/120 [==============================] - 0s 251us/sample - loss: 0.9253 - accuracy: 0.4667 - val_loss: 0.8831 - val_accuracy: 0.6333\n",
      "Epoch 35/70\n",
      "120/120 [==============================] - 0s 236us/sample - loss: 0.9210 - accuracy: 0.4417 - val_loss: 0.8769 - val_accuracy: 0.6333\n",
      "Epoch 36/70\n",
      "120/120 [==============================] - 0s 261us/sample - loss: 0.8840 - accuracy: 0.5250 - val_loss: 0.8699 - val_accuracy: 0.6333\n",
      "Epoch 37/70\n",
      "120/120 [==============================] - 0s 308us/sample - loss: 0.8730 - accuracy: 0.5250 - val_loss: 0.8625 - val_accuracy: 0.6333\n",
      "Epoch 38/70\n",
      "120/120 [==============================] - 0s 298us/sample - loss: 0.8772 - accuracy: 0.5000 - val_loss: 0.8560 - val_accuracy: 0.6333\n",
      "Epoch 39/70\n",
      "120/120 [==============================] - 0s 322us/sample - loss: 0.8964 - accuracy: 0.4833 - val_loss: 0.8500 - val_accuracy: 0.6333\n",
      "Epoch 40/70\n",
      "120/120 [==============================] - 0s 269us/sample - loss: 0.8501 - accuracy: 0.5917 - val_loss: 0.8452 - val_accuracy: 0.6333\n",
      "Epoch 41/70\n",
      "120/120 [==============================] - 0s 349us/sample - loss: 0.8560 - accuracy: 0.5500 - val_loss: 0.8387 - val_accuracy: 0.6333\n",
      "Epoch 42/70\n",
      "120/120 [==============================] - 0s 271us/sample - loss: 0.8926 - accuracy: 0.4917 - val_loss: 0.8325 - val_accuracy: 0.6333\n",
      "Epoch 43/70\n",
      "120/120 [==============================] - 0s 305us/sample - loss: 0.8865 - accuracy: 0.4750 - val_loss: 0.8272 - val_accuracy: 0.6333\n",
      "Epoch 44/70\n",
      "120/120 [==============================] - 0s 330us/sample - loss: 0.8461 - accuracy: 0.5333 - val_loss: 0.8210 - val_accuracy: 0.6333\n",
      "Epoch 45/70\n",
      "120/120 [==============================] - 0s 239us/sample - loss: 0.8485 - accuracy: 0.5167 - val_loss: 0.8140 - val_accuracy: 0.6333\n",
      "Epoch 46/70\n",
      "120/120 [==============================] - 0s 215us/sample - loss: 0.8767 - accuracy: 0.4667 - val_loss: 0.8067 - val_accuracy: 0.6333\n",
      "Epoch 47/70\n",
      "120/120 [==============================] - 0s 313us/sample - loss: 0.8447 - accuracy: 0.5417 - val_loss: 0.7991 - val_accuracy: 0.6333\n",
      "Epoch 48/70\n",
      "120/120 [==============================] - 0s 256us/sample - loss: 0.8087 - accuracy: 0.5417 - val_loss: 0.7911 - val_accuracy: 0.6333\n",
      "Epoch 49/70\n",
      "120/120 [==============================] - 0s 297us/sample - loss: 0.8765 - accuracy: 0.4417 - val_loss: 0.7805 - val_accuracy: 0.6333\n",
      "Epoch 50/70\n",
      "120/120 [==============================] - 0s 263us/sample - loss: 0.7853 - accuracy: 0.5583 - val_loss: 0.7720 - val_accuracy: 0.6333\n",
      "Epoch 51/70\n",
      "120/120 [==============================] - 0s 332us/sample - loss: 0.8075 - accuracy: 0.5417 - val_loss: 0.7653 - val_accuracy: 0.6333\n",
      "Epoch 52/70\n",
      "120/120 [==============================] - 0s 350us/sample - loss: 0.8263 - accuracy: 0.5250 - val_loss: 0.7595 - val_accuracy: 0.6333\n",
      "Epoch 53/70\n",
      "120/120 [==============================] - 0s 251us/sample - loss: 0.7732 - accuracy: 0.5500 - val_loss: 0.7523 - val_accuracy: 0.6333\n",
      "Epoch 54/70\n",
      "120/120 [==============================] - 0s 223us/sample - loss: 0.7694 - accuracy: 0.5333 - val_loss: 0.7445 - val_accuracy: 0.6667\n",
      "Epoch 55/70\n",
      "120/120 [==============================] - 0s 250us/sample - loss: 0.7872 - accuracy: 0.5333 - val_loss: 0.7369 - val_accuracy: 0.8667\n",
      "Epoch 56/70\n"
     ]
    },
    {
     "name": "stdout",
     "output_type": "stream",
     "text": [
      "120/120 [==============================] - 0s 274us/sample - loss: 0.8197 - accuracy: 0.6333 - val_loss: 0.7301 - val_accuracy: 0.8667\n",
      "Epoch 57/70\n",
      "120/120 [==============================] - 0s 297us/sample - loss: 0.7561 - accuracy: 0.8000 - val_loss: 0.7230 - val_accuracy: 0.8667\n",
      "Epoch 58/70\n",
      "120/120 [==============================] - 0s 231us/sample - loss: 0.7560 - accuracy: 0.7083 - val_loss: 0.7167 - val_accuracy: 0.8667\n",
      "Epoch 59/70\n",
      "120/120 [==============================] - 0s 252us/sample - loss: 0.7460 - accuracy: 0.7833 - val_loss: 0.7105 - val_accuracy: 0.8667\n",
      "Epoch 60/70\n",
      "120/120 [==============================] - 0s 242us/sample - loss: 0.7891 - accuracy: 0.6917 - val_loss: 0.7043 - val_accuracy: 0.9333\n",
      "Epoch 61/70\n",
      "120/120 [==============================] - 0s 259us/sample - loss: 0.7939 - accuracy: 0.7083 - val_loss: 0.6985 - val_accuracy: 0.9667\n",
      "Epoch 62/70\n",
      "120/120 [==============================] - 0s 222us/sample - loss: 0.7544 - accuracy: 0.7667 - val_loss: 0.6937 - val_accuracy: 0.9667\n",
      "Epoch 63/70\n",
      "120/120 [==============================] - 0s 251us/sample - loss: 0.7514 - accuracy: 0.7167 - val_loss: 0.6888 - val_accuracy: 0.9667\n",
      "Epoch 64/70\n",
      "120/120 [==============================] - 0s 252us/sample - loss: 0.7568 - accuracy: 0.7167 - val_loss: 0.6837 - val_accuracy: 0.9667\n",
      "Epoch 65/70\n",
      "120/120 [==============================] - 0s 256us/sample - loss: 0.7251 - accuracy: 0.8000 - val_loss: 0.6788 - val_accuracy: 0.9667\n",
      "Epoch 66/70\n",
      "120/120 [==============================] - 0s 249us/sample - loss: 0.7348 - accuracy: 0.7417 - val_loss: 0.6736 - val_accuracy: 0.9667\n",
      "Epoch 67/70\n",
      "120/120 [==============================] - 0s 278us/sample - loss: 0.7098 - accuracy: 0.7750 - val_loss: 0.6682 - val_accuracy: 0.9667\n",
      "Epoch 68/70\n",
      "120/120 [==============================] - 0s 259us/sample - loss: 0.7174 - accuracy: 0.7667 - val_loss: 0.6626 - val_accuracy: 0.9667\n",
      "Epoch 69/70\n",
      "120/120 [==============================] - 0s 234us/sample - loss: 0.6871 - accuracy: 0.8333 - val_loss: 0.6567 - val_accuracy: 0.9667\n",
      "Epoch 70/70\n",
      "120/120 [==============================] - 0s 221us/sample - loss: 0.7626 - accuracy: 0.7333 - val_loss: 0.6511 - val_accuracy: 0.9667\n"
     ]
    },
    {
     "data": {
      "text/plain": [
       "<tensorflow.python.keras.callbacks.History at 0x7f41832cb1d0>"
      ]
     },
     "execution_count": 58,
     "metadata": {},
     "output_type": "execute_result"
    }
   ],
   "source": [
    "model.compile(optimizer='adam', loss='categorical_crossentropy', metrics=['accuracy'])\n",
    "\n",
    "from tensorflow.keras.callbacks import EarlyStopping\n",
    "early_stop = EarlyStopping(monitor='val_loss', patience=2, mode='min')\n",
    "\n",
    "model.fit(X_train, y_train, epochs=70, validation_data=(X_test, y_test), callbacks=[early_stop])"
   ]
  },
  {
   "cell_type": "markdown",
   "metadata": {},
   "source": [
    "### STEP 5 : Evaluation "
   ]
  },
  {
   "cell_type": "code",
   "execution_count": 59,
   "metadata": {},
   "outputs": [
    {
     "data": {
      "text/plain": [
       "[0.6510547399520874, 0.96666664]"
      ]
     },
     "execution_count": 59,
     "metadata": {},
     "output_type": "execute_result"
    }
   ],
   "source": [
    "model.evaluate(X_test, y_test, verbose=0)"
   ]
  },
  {
   "cell_type": "code",
   "execution_count": 60,
   "metadata": {},
   "outputs": [
    {
     "data": {
      "text/plain": [
       "<matplotlib.axes._subplots.AxesSubplot at 0x7f41854fc790>"
      ]
     },
     "execution_count": 60,
     "metadata": {},
     "output_type": "execute_result"
    },
    {
     "data": {
      "image/png": "[encoded data removed]",
      "text/plain": [
       "<Figure size 432x288 with 1 Axes>"
      ]
     },
     "metadata": {
      "needs_background": "light"
     },
     "output_type": "display_data"
    }
   ],
   "source": [
    "import matplotlib.pyplot as plt\n",
    "metrics = pd.DataFrame(model.history.history)\n",
    "metrics[['accuracy', 'val_accuracy']].plot()"
   ]
  },
  {
   "cell_type": "code",
   "execution_count": 61,
   "metadata": {},
   "outputs": [
    {
     "data": {
      "text/plain": [
       "<matplotlib.axes._subplots.AxesSubplot at 0x7f41854c5e50>"
      ]
     },
     "execution_count": 61,
     "metadata": {},
     "output_type": "execute_result"
    },
    {
     "data": {
      "image/png": "[encoded data removed]",
      "text/plain": [
       "<Figure size 432x288 with 1 Axes>"
      ]
     },
     "metadata": {
      "needs_background": "light"
     },
     "output_type": "display_data"
    }
   ],
   "source": [
    "metrics[['loss', 'val_loss']].plot()"
   ]
  },
  {
   "cell_type": "markdown",
   "metadata": {},
   "source": [
    "### STEP 6 : Prediction "
   ]
  },
  {
   "cell_type": "code",
   "execution_count": 62,
   "metadata": {},
   "outputs": [],
   "source": [
    "predict = model.predict_classes(X_test)"
   ]
  },
  {
   "cell_type": "code",
   "execution_count": 63,
   "metadata": {},
   "outputs": [],
   "source": [
    "from sklearn.metrics import classification_report, confusion_matrix"
   ]
  },
  {
   "cell_type": "code",
   "execution_count": 64,
   "metadata": {},
   "outputs": [],
   "source": [
    "rounded_labels=np.argmax(y_test, axis=1)"
   ]
  },
  {
   "cell_type": "code",
   "execution_count": 65,
   "metadata": {},
   "outputs": [
    {
     "name": "stdout",
     "output_type": "stream",
     "text": [
      "              precision    recall  f1-score   support\n",
      "\n",
      "           0       1.00      1.00      1.00        10\n",
      "           1       1.00      0.89      0.94         9\n",
      "           2       0.92      1.00      0.96        11\n",
      "\n",
      "    accuracy                           0.97        30\n",
      "   macro avg       0.97      0.96      0.97        30\n",
      "weighted avg       0.97      0.97      0.97        30\n",
      "\n"
     ]
    }
   ],
   "source": [
    "print(classification_report(rounded_labels, predict))"
   ]
  },
  {
   "cell_type": "code",
   "execution_count": 66,
   "metadata": {},
   "outputs": [
    {
     "name": "stdout",
     "output_type": "stream",
     "text": [
      "[[10  0  0]\n",
      " [ 0  8  1]\n",
      " [ 0  0 11]]\n"
     ]
    }
   ],
   "source": [
    "print(confusion_matrix(rounded_labels, predict))"
   ]
  },
  {
   "cell_type": "code",
   "execution_count": null,
   "metadata": {},
   "outputs": [],
   "source": []
  }
 ],
 "metadata": {
  "kernelspec": {
   "display_name": "Python 3",
   "language": "python",
   "name": "python3"
  },
  "language_info": {
   "codemirror_mode": {
    "name": "ipython",
    "version": 3
   },
   "file_extension": ".py",
   "mimetype": "text/x-python",
   "name": "python",
   "nbconvert_exporter": "python",
   "pygments_lexer": "ipython3",
   "version": "3.7.4"
  }
 },
 "nbformat": 4,
 "nbformat_minor": 2
}
